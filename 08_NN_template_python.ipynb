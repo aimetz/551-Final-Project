{
  "cells": [
    {
      "cell_type": "markdown",
      "metadata": {
        "id": "view-in-github",
        "colab_type": "text"
      },
      "source": [
        "<a href=\"https://colab.research.google.com/github/aimetz/551-Final-Project/blob/main/08_NN_template_python.ipynb\" target=\"_parent\"><img src=\"https://colab.research.google.com/assets/colab-badge.svg\" alt=\"Open In Colab\"/></a>"
      ]
    },
    {
      "cell_type": "markdown",
      "metadata": {
        "id": "i-cO4VW1HqbU"
      },
      "source": [
        "## Setup\n",
        "\n",
        "Declare your libraries:\n"
      ]
    },
    {
      "cell_type": "code",
      "execution_count": 1,
      "metadata": {
        "id": "02OD14UYHqbW"
      },
      "outputs": [],
      "source": [
        "#| label: libraries-py\n",
        "#| include: false\n",
        "import pandas as pd\n",
        "import numpy as np\n",
        "\n",
        "from sklearn.metrics import r2_score, confusion_matrix, accuracy_score, precision_score, recall_score, roc_auc_score, make_scorer\n",
        "\n",
        "from sklearn.preprocessing import OneHotEncoder, StandardScaler, LabelEncoder\n",
        "from sklearn.compose import make_column_transformer\n",
        "\n",
        "from sklearn.model_selection import train_test_split"
      ]
    },
    {
      "cell_type": "code",
      "execution_count": 2,
      "metadata": {
        "id": "pZxm9KfZHqbb"
      },
      "outputs": [],
      "source": [
        "cc = pd.read_csv(\"https://www.dropbox.com/s/gyuyxicv27g86zr/credit_card_status.csv?dl=1\")\n",
        "\n",
        "cc = cc.sample(5000)\n",
        "cc = cc.drop([\"ID\", \"STATUS_TYPICAL\"], axis = 1)\n",
        "cc['STATUS_WORST'] = cc['STATUS_WORST'].astype('category')\n",
        "\n",
        "cc_train, cc_validate = train_test_split(cc, test_size = 0.1, stratify = cc['STATUS_WORST'])"
      ]
    },
    {
      "cell_type": "markdown",
      "metadata": {
        "id": "NxMkz_gPHqbb"
      },
      "source": [
        "# Part One: Tuning\n"
      ]
    },
    {
      "cell_type": "markdown",
      "metadata": {
        "id": "y4B0tpNMJARW"
      },
      "source": [
        "I have my own code where I implemented a Neural network from scratch. I will use that instead. Here is the following code:\n",
        "* 90% of the way through doing this I made my life so much harder I should have just used sklearns adaptation"
      ]
    },
    {
      "cell_type": "code",
      "execution_count": 3,
      "metadata": {
        "id": "uiF_BH_MJNSi"
      },
      "outputs": [],
      "source": [
        "\"\"\"\n",
        "A Tensor is an N-dimensional Array\n",
        "\"\"\"\n",
        "from numpy import ndarray as Tensor\n",
        "\n",
        "\"\"\"\n",
        "A layer passes its inputs forward and propagates gradients backward\n",
        "\"\"\"\n",
        "from typing import Dict, Callable, Sequence, Iterator, Tuple, NamedTuple\n",
        "\n",
        "import json\n",
        "\n",
        "F = Callable[[Tensor], Tensor]\n",
        "Batch = NamedTuple(\"Batch\", [(\"inputs\", Tensor), (\"targets\", Tensor)])\n",
        "\n",
        "\n",
        "class Layer:\n",
        "    def __init__(self) -> None:\n",
        "        self.params: Dict[str, Tensor] = {}\n",
        "        self.grads: Dict[str, Tensor] = {}\n",
        "        self.inputs: Tensor or None = None\n",
        "\n",
        "    def forward(self, inputs: Tensor) -> Tensor:\n",
        "        \"\"\"\n",
        "        Push inputs forward\n",
        "        \"\"\"\n",
        "        raise NotImplementedError\n",
        "\n",
        "    def backward(self, grad: Tensor) -> Tensor:\n",
        "        \"\"\"\n",
        "        Backpropagate gradient through the layer\n",
        "        \"\"\"\n",
        "        raise NotImplementedError\n",
        "\n",
        "\n",
        "\n",
        "\"\"\"\n",
        "A layer passes its inputs forward and propagates gradients backward\n",
        "\"\"\"\n",
        "class Linear(Layer):\n",
        "    \"\"\"\n",
        "    computes output = inputs @ w + b\n",
        "    \"\"\"\n",
        "    def __init__(self, num_inputs: int, num_neurons: int) -> None:\n",
        "        # inputs are (batch_size, num_inputs)\n",
        "        # outputs are (batch_size, num_neurons)\n",
        "        super().__init__()\n",
        "        self.params[\"w\"] = np.random.randn(num_inputs, num_neurons)\n",
        "        self.params[\"b\"] = np.random.randn(num_neurons)\n",
        "\n",
        "    def forward(self, inputs: Tensor) -> Tensor:\n",
        "        \"\"\"\n",
        "        outputs = inputs @ w + b\n",
        "        \"\"\"\n",
        "        self.inputs = inputs\n",
        "        return inputs @ self.params[\"w\"] + self.params[\"b\"]\n",
        "\n",
        "    def backward(self, grad: Tensor) -> Tensor:\n",
        "        \"\"\"\n",
        "        if y = f(x) and x = a * b + c\n",
        "        then dy/da = f'(x) * b\n",
        "        and dy/db = f'(x) * a\n",
        "        and dy/da = f'(x)\n",
        "        if y = f(x) and x = a @ b + c\n",
        "        then dy/da = f'(x) @ b.T\n",
        "        and dy/db = a.T @ f'(x)\n",
        "        and dy/da = f'(x)\n",
        "        \"\"\"\n",
        "        # print(grad.shape, self.inputs.T.shape)\n",
        "        self.grads[\"b\"] = grad.sum(axis=0)\n",
        "        self.grads[\"w\"] = self.inputs.T @ grad\n",
        "        # print(grad.shape, self.params[\"w\"].T.shape)\n",
        "        return grad @ self.params[\"w\"].T\n",
        "  \n",
        "\n",
        "\n",
        "class Activation(Layer):\n",
        "    \"\"\"\n",
        "    An activation Layer applies a function element-wise to its inputs\n",
        "    \"\"\"\n",
        "    def __init__(self, f: F, f_prime: F) -> None:\n",
        "        super().__init__()\n",
        "        self.f = f\n",
        "        self.f_prime = f_prime\n",
        "\n",
        "    def forward(self, inputs: Tensor) -> Tensor:\n",
        "        self.inputs = inputs\n",
        "        return self.f(inputs)\n",
        "\n",
        "    def backward(self, grad: Tensor) -> Tensor:\n",
        "        \"\"\"\n",
        "        if y = f(x) and x = g(z)\n",
        "        then dy/dz = f'(x) * g'(z)\n",
        "        \"\"\"\n",
        "        return self.f_prime(self.inputs) * grad\n",
        "\n",
        "\n",
        "def sigmoid(x: Tensor) -> Tensor:\n",
        "    return 1 / (1 + np.exp(-x))\n",
        "\n",
        "\n",
        "def sigmoid_prime(x: Tensor) -> Tensor:\n",
        "    s = sigmoid(x)\n",
        "    return s * (1 - s)\n",
        "\n",
        "\n",
        "class Sigmoid(Activation):  \n",
        "    def __init__(self):\n",
        "        super().__init__(sigmoid, sigmoid_prime)\n",
        "\n",
        "def tanh(x: Tensor) -> Tensor:\n",
        "    return np.tanh(x)\n",
        "\n",
        "\n",
        "def tanh_prime(x: Tensor) -> Tensor:\n",
        "    y = tanh(x)\n",
        "    return 1 - y ** 2\n",
        "\n",
        "\n",
        "class Tanh(Activation):\n",
        "    def __init__(self):\n",
        "        super().__init__(tanh, tanh_prime)\n",
        "\n",
        "def relu(x: Tensor) -> Tensor:\n",
        "    return np.maximum(x, 0)\n",
        "\n",
        "def relu_prime(x: Tensor) -> Tensor:\n",
        "    return (x>1)*1.\n",
        "\n",
        "class ReLu(Activation):\n",
        "    def __init__(self):\n",
        "        super().__init__(relu, relu_prime)\n",
        "\n",
        "\n",
        "\"\"\"\n",
        "A Neural Network is a collection of layers\n",
        "\"\"\"\n",
        "\n",
        "class NeuralNet:\n",
        "    def __init__(self, Layers: Sequence[Layer]) -> None:\n",
        "        self.layers = Layers\n",
        "\n",
        "    def forward(self, inputs: Tensor) -> Tensor:\n",
        "        for Layer in self.layers:\n",
        "            #print(inputs.shape)\n",
        "            inputs = Layer.forward(inputs)\n",
        "        return inputs\n",
        "\n",
        "    def backward(self, grad: Tensor) -> Tensor:\n",
        "        for Layer in reversed(self.layers):\n",
        "            grad = Layer.backward(grad)\n",
        "        return grad\n",
        "\n",
        "    def params_and_grads(self) -> Iterator[Tuple[Tensor, Tensor]]:\n",
        "        for Layer in self.layers:\n",
        "            for name, param in Layer.params.items():\n",
        "                grad = Layer.grads[name]\n",
        "                yield param, grad\n",
        "\n",
        "    def to_series(self, code):\n",
        "        series = pd.Series(dtype=object)\n",
        "        series.loc[\"code\"] = code\n",
        "        for i, Layer in enumerate(self.layers):\n",
        "            if type(Layer) == Linear:\n",
        "                series.loc[\"Weights\" + str(i)] = json.dumps(Layer.params[\"w\"].tolist())\n",
        "                series.loc[\"Bias\" + str(i)] = json.dumps(Layer.params[\"b\"].tolist())\n",
        "        return series\n",
        "\n",
        "    def save(self, text_file, code=None):\n",
        "        s = self.to_series(code)\n",
        "        try:\n",
        "            df = pd.read_csv(text_file, index_col=0)\n",
        "        except pd.errors.EmptyDataError:\n",
        "            df = pd.DataFrame(columns=s.index)\n",
        "        except FileNotFoundError:\n",
        "            a = open(text_file, \"w\")\n",
        "            a.close()\n",
        "            df = pd.DataFrame(columns=s.index)\n",
        "        df.loc[len(df)] = s.transpose()\n",
        "        df.to_csv(text_file)\n",
        "\n",
        "\n",
        "\n",
        "class DataIterator:\n",
        "    def __call__(self, inputs: Tensor, targets: Tensor) -> Iterator[Batch]:\n",
        "        raise NotImplementedError\n",
        "\n",
        "class BatchIterator(DataIterator):\n",
        "    def __init__(self, batch_size: int = 32, shuffle: bool = True) -> None:\n",
        "        self.batch_size = batch_size\n",
        "        self.shuffle = shuffle\n",
        "\n",
        "    def __call__(self, inputs: Tensor, targets: Tensor) -> Iterator[Batch]:\n",
        "        starts = np.arange(0, len(inputs), self.batch_size)\n",
        "        if self.shuffle:\n",
        "            np.random.shuffle(starts)\n",
        "        for start in starts:\n",
        "            end = start + self.batch_size\n",
        "            batch_inputs = inputs[start:end]\n",
        "            batch_targets = targets[start:end]\n",
        "            yield Batch(batch_inputs, batch_targets)\n",
        "\n",
        "\"\"\"\n",
        "A loss function measures how good our predictions are\n",
        "\"\"\"\n",
        "\n",
        "\n",
        "class Loss:\n",
        "    def loss(self, predicted: Tensor, actual: Tensor) -> float:\n",
        "        raise NotImplementedError\n",
        "\n",
        "    def grad(self, predicted: Tensor, actual: Tensor) -> Tensor:\n",
        "        raise NotImplementedError\n",
        "\n",
        "class TSE(Loss):\n",
        "    \"\"\"\n",
        "    Total Squared Error\n",
        "    \"\"\"\n",
        "    def loss(self, predicted: Tensor, actual: Tensor) -> float:\n",
        "        return ((predicted - actual) ** 2).sum()\n",
        "\n",
        "    def grad(self, predicted: Tensor, actual: Tensor) -> Tensor:\n",
        "        return (predicted - actual) * 2\n",
        "\n",
        "class MSE(Loss):\n",
        "    \"\"\"\n",
        "    Mean Squared Error\n",
        "    \"\"\"\n",
        "    def loss(self, predicted: Tensor, actual: Tensor) -> float:\n",
        "        return ((predicted - actual) ** 2).mean()\n",
        "\n",
        "    def grad(self, predicted: Tensor, actual: Tensor) -> Tensor:\n",
        "        return (predicted - actual) * 2\n",
        "\n",
        "class Accuracy(Loss):\n",
        "    \"\"\"\n",
        "    Accuracy\n",
        "    Not Yet Functional\n",
        "    \"\"\"\n",
        "    def loss(self, predicted: Tensor, actual: Tensor) -> float:\n",
        "        return (predicted == actual).mean()\n",
        "\n",
        "    def grad(self, predicted: Tensor, actual: Tensor) -> Tensor:\n",
        "        return (predicted - actual) * 2\n",
        "\n",
        "\n",
        "\"\"\"\n",
        "Source https://deepnotes.io/softmax-crossentropy\n",
        "Cross Entropy is not my orifinal code\n",
        "\"\"\"\n",
        "class CrossEntopy(Loss):\n",
        "  def stable_softmax(self, X):\n",
        "      exps = np.exp(X - np.max(X))\n",
        "      return exps / np.sum(exps)\n",
        "\n",
        "  def loss(self, predicted: Tensor, actual: Tensor) -> float:\n",
        "      \"\"\"\n",
        "      X is the output from fully connected layer (num_examples x num_classes)\n",
        "      y is labels (num_examples x 1)\n",
        "        Note that y is not one-hot encoded vector. \n",
        "        It can be computed as y.argmax(axis=1) from one-hot encoded vectors of labels if required.\n",
        "      \"\"\"\n",
        "      m = actual.shape[0]\n",
        "      p = self.stable_softmax(predicted)\n",
        "      # We use multidimensional array indexing to extract \n",
        "      # softmax probability of the correct label for each sample.\n",
        "      # Refer to https://docs.scipy.org/doc/numpy/user/basics.indexing.html#indexing-multi-dimensional-arrays for understanding multidimensional array indexing.\n",
        "      log_likelihood = -np.log(p[range(m),actual])\n",
        "      loss = np.sum(log_likelihood) / m\n",
        "      return loss\n",
        "\n",
        "  def grad(self, predicted: Tensor, actual: Tensor) -> Tensor:\n",
        "      \"\"\"\n",
        "      X is the output from fully connected layer (num_examples x num_classes)\n",
        "      y is labels (num_examples x 1)\n",
        "        Note that y is not one-hot encoded vector. \n",
        "        It can be computed as y.argmax(axis=1) from one-hot encoded vectors of labels if required.\n",
        "      \"\"\"\n",
        "      m = actual.shape[0]\n",
        "      grad = self.stable_softmax(predicted)\n",
        "      grad[range(m),actual] -= 1\n",
        "      grad = grad/m\n",
        "      return grad\n",
        "\n",
        "\"\"\"\n",
        "An optimizer adjusts the params of a network\n",
        "based on the gradients computed\n",
        "\"\"\"\n",
        "\n",
        "\n",
        "class Optimizer:\n",
        "    def step(self, net: NeuralNet) -> None:\n",
        "        raise NotImplementedError\n",
        "\n",
        "class SGD(Optimizer):\n",
        "    def __init__(self, lr: float = .001) -> None:\n",
        "        self.lr = lr\n",
        "\n",
        "    def step(self, net: NeuralNet) -> None:\n",
        "        for param, grad in net.params_and_grads():\n",
        "            #print(grad)\n",
        "            param -= self.lr * grad\n",
        "\n",
        "def train(net: NeuralNet,\n",
        "          inputs: Tensor,\n",
        "          targets: Tensor,\n",
        "          num_epochs: int = 5000,\n",
        "          iterator: DataIterator = BatchIterator(),\n",
        "          loss: Loss = TSE(),\n",
        "          optimizer: Optimizer = SGD(),\n",
        "          print_loss: int = 0) -> None:\n",
        "    for epoch in range(num_epochs):\n",
        "        epoch_loss = 0.0\n",
        "        for batch in iterator(inputs, targets):\n",
        "            predicted = net.forward(batch.inputs)\n",
        "            epoch_loss += loss.loss(predicted, batch.targets)\n",
        "            grad = loss.grad(predicted, batch.targets)\n",
        "            net.backward(grad)\n",
        "            optimizer.step(net)\n",
        "        # if print_loss != 0:\n",
        "        #   if epoch%print_loss==0:\n",
        "        #     print({\"epoch\":epoch, \n",
        "        #           \"loss\": epoch_loss})\n",
        "    return epoch_loss\n"
      ]
    },
    {
      "cell_type": "code",
      "execution_count": 4,
      "metadata": {
        "colab": {
          "base_uri": "https://localhost:8080/"
        },
        "id": "p2JR_m_ILtnD",
        "outputId": "05d0ebc4-7a26-446b-c91e-99ece5e243e0"
      },
      "outputs": [
        {
          "output_type": "stream",
          "name": "stdout",
          "text": [
            "(4500, 22) (4500, 7)\n"
          ]
        }
      ],
      "source": [
        "ct = make_column_transformer(            \n",
        "            (StandardScaler(), ['AGE', \"AMT_INCOME_TOTAL\", \"CNT_CHILDREN\", \"CNT_FAM_MEMBERS\"]),\n",
        "            (OneHotEncoder(), ['CODE_GENDER', \"EDUCATION_LEVEL\", \"FAMILY_STATUS\", \n",
        "                               \"HOUSING_TYPE\", \"IS_EMPLOYED\"]))\n",
        "xtr = ct.fit_transform(cc_train)\n",
        "ytr = np.array(pd.get_dummies(cc_train.STATUS_WORST).values.tolist())\n",
        "print(xtr.shape, ytr.shape)"
      ]
    },
    {
      "cell_type": "markdown",
      "metadata": {
        "id": "BLtOfM2sH5qN"
      },
      "source": [
        "## Q1 Layer Complexity\n"
      ]
    },
    {
      "cell_type": "markdown",
      "metadata": {
        "id": "8K95kMOmH8Om"
      },
      "source": [
        "Choose a reasonable value for the number of epochs, and set the activation function to be ReLu.\n",
        "\n",
        "Tune the number of nodes in your hidden layer.\n",
        "\n",
        "Instead of selecting just the one best choice, look at how your cross-validated\n",
        "accuracy and/or ROC-AUC scores change as you increase the number of nodes.  What pattern do you see?  What do you think is the best choice for number of nodes?\n"
      ]
    },
    {
      "cell_type": "code",
      "execution_count": 5,
      "metadata": {
        "colab": {
          "base_uri": "https://localhost:8080/"
        },
        "id": "i16rcWsFLmYu",
        "outputId": "06742613-90dd-4555-f5fb-0ea32e16f91a"
      },
      "outputs": [
        {
          "output_type": "stream",
          "name": "stdout",
          "text": [
            "[5748 6552 7981 4505 4503 4497 4496 4954 4503 4530 4512 4499 4500 4500\n",
            " 4500 4500 4500 4500]\n"
          ]
        }
      ],
      "source": [
        "losses = np.array([0]*20)\n",
        "for i in range(2, 20):\n",
        "  nn = NeuralNet([\n",
        "                  Linear(22, i),\n",
        "                  ReLu(),\n",
        "                  Linear(i, 7),\n",
        "                  ReLu(),\n",
        "                ])\n",
        "\n",
        "  losses[i] = train(net = nn,\n",
        "                    inputs = xtr,\n",
        "                    targets = ytr,\n",
        "                    num_epochs = 100,\n",
        "                    iterator = BatchIterator(),\n",
        "                    loss = TSE(),\n",
        "                    optimizer = SGD(lr = .01))\n",
        "print(losses[2:])\n",
        "losses = pd.Series(losses[2:], index=range(2, 20))"
      ]
    },
    {
      "cell_type": "markdown",
      "source": [
        "Because I am using a batch iterator, a single epochs loss is an anolog of what the cross validated score would be so I will just try to minimize that"
      ],
      "metadata": {
        "id": "NEGAw-KFiSn2"
      }
    },
    {
      "cell_type": "code",
      "execution_count": 6,
      "metadata": {
        "colab": {
          "base_uri": "https://localhost:8080/",
          "height": 282
        },
        "id": "OQ-Up6ujRzSD",
        "outputId": "603a2dac-8ffc-4de0-a4c9-0ac625f0a79c"
      },
      "outputs": [
        {
          "output_type": "execute_result",
          "data": {
            "text/plain": [
              "<AxesSubplot:>"
            ]
          },
          "metadata": {},
          "execution_count": 6
        },
        {
          "output_type": "display_data",
          "data": {
            "text/plain": [
              "<Figure size 432x288 with 1 Axes>"
            ],
            "image/png": "[encoded data removed]"
          },
          "metadata": {
            "needs_background": "light"
          }
        }
      ],
      "source": [
        "losses.plot.line()"
      ]
    },
    {
      "cell_type": "markdown",
      "source": [
        "It seems to be decreasing until size reaches 10 and then it levels off"
      ],
      "metadata": {
        "id": "0cdpkUYKj4_U"
      }
    },
    {
      "cell_type": "markdown",
      "metadata": {
        "id": "UytKtxDVH-LD"
      },
      "source": [
        "## Q2: Epochs\n"
      ]
    },
    {
      "cell_type": "markdown",
      "metadata": {
        "id": "t2Ik2jbdIARl"
      },
      "source": [
        "Set the activation function to be ReLu, and set the number of nodes to be whatever\n",
        "you chose from Q1.\n",
        "\n",
        "Fit your model with 1, 10, 100, and 1000 epochs.\n",
        "\n",
        "\n",
        "\n",
        "Again, instead of looking at just the one best choice, look at how your accuracy and/or\n",
        "ROC-AUC scores change as you increase the number of epochs  What pattern do you\n",
        "see?  How many epochs do you think are necessary for \"convergence\" to a good model?\n"
      ]
    },
    {
      "cell_type": "code",
      "execution_count": 7,
      "metadata": {
        "colab": {
          "base_uri": "https://localhost:8080/"
        },
        "id": "Pibz0HB2U1ny",
        "outputId": "1431d121-7715-4cae-defe-4bc867a15473"
      },
      "outputs": [
        {
          "output_type": "stream",
          "name": "stdout",
          "text": [
            "[12379  4545  4469  4500]\n"
          ]
        }
      ],
      "source": [
        "losses = np.array([0]*4)\n",
        "n_epoch = [1, 10, 100, 1000]\n",
        "for i, n in enumerate(n_epoch):\n",
        "  nn = NeuralNet([\n",
        "                  Linear(22, 10),\n",
        "                  ReLu(),\n",
        "                  Linear(10, 7),\n",
        "                  ReLu(),\n",
        "                ])\n",
        "\n",
        "  losses[i] = train(net = nn,\n",
        "                    inputs = xtr,\n",
        "                    targets = ytr,\n",
        "                    num_epochs = n,\n",
        "                    iterator = BatchIterator(),\n",
        "                    loss = TSE(),\n",
        "                    optimizer = SGD(lr = .01))\n",
        "print(losses)\n",
        "losses = pd.Series(losses, index=n_epoch)"
      ]
    },
    {
      "cell_type": "markdown",
      "source": [
        "10 is alot better than 1 epoch, but then there isnt much change. I also reduced the learning rate from .001 to .0001"
      ],
      "metadata": {
        "id": "pgNKNdbKlcz0"
      }
    },
    {
      "cell_type": "code",
      "execution_count": 8,
      "metadata": {
        "colab": {
          "base_uri": "https://localhost:8080/",
          "height": 297
        },
        "id": "FkKP-r3TVQK4",
        "outputId": "e593c2d1-e14a-4d9f-aa89-2b71a74ef2b9"
      },
      "outputs": [
        {
          "output_type": "execute_result",
          "data": {
            "text/plain": [
              "<AxesSubplot:>"
            ]
          },
          "metadata": {},
          "execution_count": 8
        },
        {
          "output_type": "display_data",
          "data": {
            "text/plain": [
              "<Figure size 432x288 with 1 Axes>"
            ],
            "image/png": "[encoded data removed]"
          },
          "metadata": {
            "needs_background": "light"
          }
        }
      ],
      "source": [
        "losses.plot.bar()"
      ]
    },
    {
      "cell_type": "markdown",
      "metadata": {
        "id": "vxYy9wgQICM3"
      },
      "source": [
        "## Q3: Activation function"
      ]
    },
    {
      "cell_type": "markdown",
      "metadata": {
        "id": "r9A3LuAvIFM6"
      },
      "source": [
        "\n",
        "Set the number of nodes to be whatever you chose from Q1, and choose an epoch\n",
        "number that seems reasonable based on Q2.\n",
        "\n",
        "Try your model with all possible values of the activation function.\n",
        "\n",
        "\n",
        "\n",
        "Comment on the results - was there much difference in your model success between\n",
        "different choices?  Which one do you think is best?\n"
      ]
    },
    {
      "cell_type": "code",
      "execution_count": 9,
      "metadata": {
        "id": "2lnDqmKRV6hS"
      },
      "outputs": [],
      "source": [
        "activations = [ReLu(), Tanh(), Sigmoid()]"
      ]
    },
    {
      "cell_type": "markdown",
      "metadata": {
        "id": "G6atLvvGWWIA"
      },
      "source": [
        "I only implememented 3 activations. Ideally in a clasification problem Softmax or something similar would be used on the output layer but I havent been able to figure out the derivative of it yet so instead I will have to make due with what I have so far"
      ]
    },
    {
      "cell_type": "code",
      "execution_count": 10,
      "metadata": {
        "colab": {
          "base_uri": "https://localhost:8080/"
        },
        "id": "x9SK_TJgWqW8",
        "outputId": "23118c28-9037-429d-951c-af63071f88fb"
      },
      "outputs": [
        {
          "output_type": "stream",
          "name": "stdout",
          "text": [
            "[4499 1750 1733]\n"
          ]
        }
      ],
      "source": [
        "losses = np.array([0]*3)\n",
        "for i, act in enumerate(activations):\n",
        "  nn = NeuralNet([\n",
        "                  Linear(22, 7),\n",
        "                  act,\n",
        "                  Linear(7, 7),\n",
        "                  act\n",
        "                ])\n",
        "  losses[i] = train(net = nn,\n",
        "                    inputs = xtr,\n",
        "                    targets = ytr,\n",
        "                    num_epochs = 100,\n",
        "                    iterator = BatchIterator(),\n",
        "                    loss = TSE(),\n",
        "                    optimizer = SGD(lr = .01))\n",
        "print(losses)\n",
        "losses = pd.Series(losses, index=[\"Relu\", \"Tanh\", \"Sigmoid\"])"
      ]
    },
    {
      "cell_type": "code",
      "execution_count": 11,
      "metadata": {
        "colab": {
          "base_uri": "https://localhost:8080/",
          "height": 313
        },
        "id": "J-VPcxKiXojW",
        "outputId": "cc883302-bc76-411f-d1d5-56645a6e4906"
      },
      "outputs": [
        {
          "output_type": "execute_result",
          "data": {
            "text/plain": [
              "<AxesSubplot:>"
            ]
          },
          "metadata": {},
          "execution_count": 11
        },
        {
          "output_type": "display_data",
          "data": {
            "text/plain": [
              "<Figure size 432x288 with 1 Axes>"
            ],
            "image/png": "[encoded data removed]"
          },
          "metadata": {
            "needs_background": "light"
          }
        }
      ],
      "source": [
        "losses.plot.bar()"
      ]
    },
    {
      "cell_type": "markdown",
      "metadata": {
        "id": "VQoIziwPIHBO"
      },
      "source": [
        "# Part Two: Prediction\n"
      ]
    },
    {
      "cell_type": "markdown",
      "metadata": {
        "id": "mGCdHC0lIJQI"
      },
      "source": [
        "\n",
        "Use your final model to predict on the validation set.\n",
        "\n",
        "Report a confusion matrix of the predictions, and comment on it."
      ]
    },
    {
      "cell_type": "code",
      "execution_count": 12,
      "metadata": {
        "id": "HuuZV_gaTxgY",
        "colab": {
          "base_uri": "https://localhost:8080/"
        },
        "outputId": "83e59f75-4c3e-430f-e266-51154c8cefe4"
      },
      "outputs": [
        {
          "output_type": "execute_result",
          "data": {
            "text/plain": [
              "0.768"
            ]
          },
          "metadata": {},
          "execution_count": 12
        }
      ],
      "source": [
        "i = 2\n",
        "nn = NeuralNet([Linear(22, 7),\n",
        "                Sigmoid(),\n",
        "                Linear(7, 7),\n",
        "                Sigmoid()])\n",
        "train(net = nn,\n",
        "      inputs = xtr,\n",
        "      targets = ytr,  \n",
        "      num_epochs = 1000,\n",
        "      iterator = BatchIterator(),\n",
        "      loss = TSE(),\n",
        "      optimizer = SGD(lr = .01),\n",
        "      print_loss=10)\n",
        "\n",
        "(nn.forward(ct.transform(cc_validate)).argmax(1)==cc_validate.STATUS_WORST).mean()"
      ]
    },
    {
      "cell_type": "code",
      "source": [
        "nn.forward(ct.transform(cc_validate)).argmax(1)"
      ],
      "metadata": {
        "colab": {
          "base_uri": "https://localhost:8080/"
        },
        "id": "8I-vwCOYmpTN",
        "outputId": "2761fff0-fd12-496c-d41a-22f90efa8a6c"
      },
      "execution_count": 13,
      "outputs": [
        {
          "output_type": "execute_result",
          "data": {
            "text/plain": [
              "array([1, 1, 1, 1, 1, 1, 1, 1, 1, 1, 1, 1, 1, 1, 1, 1, 1, 1, 1, 1, 1, 1,\n",
              "       1, 1, 1, 1, 1, 1, 1, 1, 1, 1, 1, 1, 1, 1, 1, 1, 1, 1, 1, 1, 1, 1,\n",
              "       1, 1, 1, 1, 1, 1, 1, 1, 1, 1, 1, 1, 1, 1, 1, 1, 1, 1, 1, 1, 1, 1,\n",
              "       1, 1, 1, 1, 1, 1, 1, 1, 1, 1, 1, 1, 1, 1, 1, 1, 1, 1, 1, 1, 1, 1,\n",
              "       1, 1, 1, 1, 1, 1, 1, 1, 1, 1, 1, 1, 1, 1, 1, 1, 1, 1, 1, 1, 1, 1,\n",
              "       1, 1, 1, 1, 1, 1, 1, 1, 1, 1, 1, 1, 1, 1, 1, 1, 1, 1, 1, 1, 1, 1,\n",
              "       1, 1, 1, 1, 1, 1, 1, 1, 1, 1, 1, 1, 1, 1, 1, 1, 1, 1, 1, 1, 1, 1,\n",
              "       1, 1, 1, 1, 1, 1, 1, 1, 1, 1, 1, 1, 1, 1, 1, 1, 1, 1, 1, 1, 1, 1,\n",
              "       1, 1, 1, 1, 1, 1, 1, 1, 1, 1, 1, 1, 1, 1, 1, 1, 1, 1, 1, 1, 1, 1,\n",
              "       1, 1, 1, 1, 1, 1, 1, 1, 1, 1, 1, 1, 1, 1, 1, 1, 1, 1, 1, 1, 1, 1,\n",
              "       1, 1, 1, 1, 1, 1, 1, 1, 1, 1, 1, 1, 1, 1, 1, 1, 1, 1, 1, 1, 1, 1,\n",
              "       1, 1, 1, 1, 1, 1, 1, 1, 1, 1, 1, 1, 1, 1, 1, 1, 1, 1, 1, 1, 1, 1,\n",
              "       1, 1, 1, 1, 1, 1, 1, 1, 1, 1, 1, 1, 1, 1, 1, 1, 1, 1, 1, 1, 1, 1,\n",
              "       1, 1, 1, 1, 1, 1, 1, 1, 1, 1, 1, 1, 1, 1, 1, 1, 1, 1, 1, 1, 1, 1,\n",
              "       1, 1, 1, 1, 1, 1, 1, 1, 1, 1, 1, 1, 1, 1, 1, 1, 1, 1, 1, 1, 1, 1,\n",
              "       1, 1, 1, 1, 1, 1, 1, 1, 1, 1, 1, 1, 1, 1, 1, 1, 1, 1, 1, 1, 1, 1,\n",
              "       1, 1, 1, 1, 1, 1, 1, 1, 1, 1, 1, 1, 1, 1, 1, 1, 1, 1, 1, 1, 1, 1,\n",
              "       1, 1, 1, 1, 1, 1, 1, 1, 1, 1, 1, 1, 1, 1, 1, 1, 1, 1, 1, 1, 1, 1,\n",
              "       1, 1, 1, 1, 1, 1, 1, 1, 1, 1, 1, 1, 1, 1, 1, 1, 1, 1, 1, 1, 1, 1,\n",
              "       1, 1, 1, 1, 1, 1, 1, 1, 1, 1, 1, 1, 1, 1, 1, 1, 1, 1, 1, 1, 1, 1,\n",
              "       1, 1, 1, 1, 1, 1, 1, 1, 1, 1, 1, 1, 1, 1, 1, 1, 1, 1, 1, 1, 1, 1,\n",
              "       1, 1, 1, 1, 1, 1, 1, 1, 1, 1, 1, 1, 1, 1, 1, 1, 1, 1, 1, 1, 1, 1,\n",
              "       1, 1, 1, 1, 1, 1, 1, 1, 1, 1, 1, 1, 1, 1, 1, 1])"
            ]
          },
          "metadata": {},
          "execution_count": 13
        }
      ]
    },
    {
      "cell_type": "code",
      "source": [
        "confusion_matrix(nn.forward(ct.transform(cc_validate)).argmax(1), cc_validate.STATUS_WORST)"
      ],
      "metadata": {
        "colab": {
          "base_uri": "https://localhost:8080/"
        },
        "id": "y910lFuPmRnx",
        "outputId": "c94fe5f8-3d00-4b20-c686-a49ab82bdaec"
      },
      "execution_count": 14,
      "outputs": [
        {
          "output_type": "execute_result",
          "data": {
            "text/plain": [
              "array([[  0,   0,   0,   0,   0,   0,   0],\n",
              "       [ 58, 384,  50,   4,   1,   1,   2],\n",
              "       [  0,   0,   0,   0,   0,   0,   0],\n",
              "       [  0,   0,   0,   0,   0,   0,   0],\n",
              "       [  0,   0,   0,   0,   0,   0,   0],\n",
              "       [  0,   0,   0,   0,   0,   0,   0],\n",
              "       [  0,   0,   0,   0,   0,   0,   0]])"
            ]
          },
          "metadata": {},
          "execution_count": 14
        }
      ]
    },
    {
      "cell_type": "markdown",
      "metadata": {
        "id": "jXw2_YsNILXY"
      },
      "source": [
        "\n",
        "# Part Three: Interpretation\n"
      ]
    },
    {
      "cell_type": "markdown",
      "metadata": {
        "id": "mZkrTKSwIOBE"
      },
      "source": [
        "\n",
        "Although we generally find Neural Networks to be very uninterpretable, there\n",
        "are a few tricks we can use.\n",
        "\n",
        "One is to make \"fake\" input, and see how changes to a single variable impact\n",
        "the results.\n",
        "\n",
        "Let's create a fake \"average\" person by assigning them the approximate average values from the full dataset:"
      ]
    },
    {
      "cell_type": "code",
      "execution_count": 15,
      "metadata": {
        "id": "LPHe8PtgHqbc"
      },
      "outputs": [],
      "source": [
        "fake_person = pd.DataFrame({\n",
        "  \"CODE_GENDER\" : \"F\",\n",
        "  \"AGE\" : 44,\n",
        "  \"EDUCATION_LEVEL\" : \"High School Degree\",\n",
        "  \"FAMILY_STATUS\" : \"Married\",\n",
        "  \"AMT_INCOME_TOTAL\" : 18600,\n",
        "  \"HOUSING_TYPE\" : \"House / apartment\",\n",
        "  \"IS_EMPLOYED\" : \"Y\",\n",
        "  \"CNT_CHILDREN\" : 0,\n",
        "  \"CNT_FAM_MEMBERS\" : 2},\n",
        "  index=[0])"
      ]
    },
    {
      "cell_type": "markdown",
      "metadata": {
        "id": "0xsEC_xAd9RQ"
      },
      "source": [
        "This isnt the perfect way of doing this but should get the gist of what we are trying to do"
      ]
    },
    {
      "cell_type": "code",
      "execution_count": 16,
      "metadata": {
        "id": "5-EJJGfscECS"
      },
      "outputs": [],
      "source": [
        "def predProba(preds):\n",
        "  return pd.Series(np.maximum((preds/preds.sum())[0], 0))"
      ]
    },
    {
      "cell_type": "markdown",
      "metadata": {
        "id": "ineMRqrBHqbd"
      },
      "source": [
        "## Q1: Predicted Probabilities"
      ]
    },
    {
      "cell_type": "markdown",
      "metadata": {
        "id": "vYLhmJLUdtvp"
      },
      "source": [
        "\n",
        "Use your model to predict this person's STATUS_WORST value.  Instead of looking at the single predicted class, look at the estimated probabilities of each class.\n"
      ]
    },
    {
      "cell_type": "code",
      "execution_count": 22,
      "metadata": {
        "colab": {
          "base_uri": "https://localhost:8080/",
          "height": 297
        },
        "id": "EYEDEZO5bJgS",
        "outputId": "72d7e586-0855-4869-a366-21e42973590f"
      },
      "outputs": [
        {
          "output_type": "execute_result",
          "data": {
            "text/plain": [
              "array([[3.30380748e-02, 9.36226916e-01, 2.74902805e-02, 8.45206822e-03,\n",
              "        1.34545522e-03, 5.69812625e-04, 1.38270620e-03]])"
            ]
          },
          "metadata": {},
          "execution_count": 22
        },
        {
          "output_type": "display_data",
          "data": {
            "text/plain": [
              "<Figure size 432x288 with 1 Axes>"
            ],
            "image/png": "[encoded data removed]"
          },
          "metadata": {
            "needs_background": "light"
          }
        }
      ],
      "source": [
        "preds = nn.forward(ct.transform(fake_person))\n",
        "predProba(preds).plot.bar()\n",
        "preds"
      ]
    },
    {
      "cell_type": "markdown",
      "metadata": {
        "id": "dwGdd2BVdvof"
      },
      "source": [
        "## Q2: Quantitative variable\n"
      ]
    },
    {
      "cell_type": "markdown",
      "metadata": {
        "id": "kJGLu5IIdx-8"
      },
      "source": [
        "Choose one of the quantitative variables.  Try changing it to a different value, and re-compute the predicted probabilities.  How did they change?  Do this a few times for a few different values.\n",
        "\n",
        "What does this tell you in real world terms about how the model makes decisions?\n",
        "\n",
        "(For example, you might say \"Older people are more likely to pay on time, i.e. STATUS 1\")\n"
      ]
    },
    {
      "cell_type": "code",
      "execution_count": 18,
      "metadata": {
        "colab": {
          "base_uri": "https://localhost:8080/",
          "height": 282
        },
        "id": "4aPMHM1MeHYY",
        "outputId": "66fabf20-25eb-4a3d-dbc4-5eb1c5901ab6"
      },
      "outputs": [
        {
          "output_type": "execute_result",
          "data": {
            "text/plain": [
              "<AxesSubplot:>"
            ]
          },
          "metadata": {},
          "execution_count": 18
        },
        {
          "output_type": "display_data",
          "data": {
            "text/plain": [
              "<Figure size 432x288 with 1 Axes>"
            ],
            "image/png": "[encoded data removed]"
          },
          "metadata": {
            "needs_background": "light"
          }
        }
      ],
      "source": [
        "fake_person = pd.DataFrame({\n",
        "  \"CODE_GENDER\" : \"F\",\n",
        "  \"AGE\" : 44,\n",
        "  \"EDUCATION_LEVEL\" : \"High School Degree\",\n",
        "  \"FAMILY_STATUS\" : \"Married\",\n",
        "  \"AMT_INCOME_TOTAL\" : 18600,\n",
        "  \"HOUSING_TYPE\" : \"House / apartment\",\n",
        "  \"IS_EMPLOYED\" : \"Y\",\n",
        "  \"CNT_CHILDREN\" : 0,\n",
        "  \"CNT_FAM_MEMBERS\" : 4},\n",
        "  index=[0])\n",
        "preds = nn.forward(ct.transform(fake_person))\n",
        "predProba(preds).plot.bar()"
      ]
    },
    {
      "cell_type": "code",
      "execution_count": 19,
      "metadata": {
        "id": "ScwI-1MbeXuj",
        "colab": {
          "base_uri": "https://localhost:8080/",
          "height": 279
        },
        "outputId": "e9ca685f-df84-434a-8a79-1694d2eb233c"
      },
      "outputs": [
        {
          "output_type": "execute_result",
          "data": {
            "text/plain": [
              "<AxesSubplot:>"
            ]
          },
          "metadata": {},
          "execution_count": 19
        },
        {
          "output_type": "display_data",
          "data": {
            "text/plain": [
              "<Figure size 432x288 with 1 Axes>"
            ],
            "image/png": "[encoded data removed]"
          },
          "metadata": {
            "needs_background": "light"
          }
        }
      ],
      "source": [
        "fake_person = pd.DataFrame({\n",
        "  \"CODE_GENDER\" : \"F\",\n",
        "  \"AGE\" : 44,\n",
        "  \"EDUCATION_LEVEL\" : \"High School Degree\",\n",
        "  \"FAMILY_STATUS\" : \"Married\",\n",
        "  \"AMT_INCOME_TOTAL\" : 18600,\n",
        "  \"HOUSING_TYPE\" : \"House / apartment\",\n",
        "  \"IS_EMPLOYED\" : \"Y\",\n",
        "  \"CNT_CHILDREN\" : 0,\n",
        "  \"CNT_FAM_MEMBERS\" : 6},\n",
        "  index=[0])\n",
        "preds = nn.forward(ct.transform(fake_person))\n",
        "predProba(preds).plot.bar()"
      ]
    },
    {
      "cell_type": "code",
      "execution_count": 20,
      "metadata": {
        "id": "bOVNQ8JvebkE",
        "colab": {
          "base_uri": "https://localhost:8080/",
          "height": 279
        },
        "outputId": "ee617604-27e1-4c01-e4b4-d40245a15382"
      },
      "outputs": [
        {
          "output_type": "execute_result",
          "data": {
            "text/plain": [
              "<AxesSubplot:>"
            ]
          },
          "metadata": {},
          "execution_count": 20
        },
        {
          "output_type": "display_data",
          "data": {
            "text/plain": [
              "<Figure size 432x288 with 1 Axes>"
            ],
            "image/png": "[encoded data removed]"
          },
          "metadata": {
            "needs_background": "light"
          }
        }
      ],
      "source": [
        "fake_person = pd.DataFrame({\n",
        "  \"CODE_GENDER\" : \"F\",\n",
        "  \"AGE\" : 44,\n",
        "  \"EDUCATION_LEVEL\" : \"High School Degree\",\n",
        "  \"FAMILY_STATUS\" : \"Married\",\n",
        "  \"AMT_INCOME_TOTAL\" : 18600,\n",
        "  \"HOUSING_TYPE\" : \"House / apartment\",\n",
        "  \"IS_EMPLOYED\" : \"Y\",\n",
        "  \"CNT_CHILDREN\" : 0,\n",
        "  \"CNT_FAM_MEMBERS\" : 8},\n",
        "  index=[0])\n",
        "preds = nn.forward(ct.transform(fake_person))\n",
        "predProba(preds).plot.bar()"
      ]
    },
    {
      "cell_type": "markdown",
      "metadata": {
        "id": "OZ23pYjPd0n1"
      },
      "source": [
        "## Q3: Categorical Variable\n"
      ]
    },
    {
      "cell_type": "markdown",
      "metadata": {
        "id": "2SqmBWfKd2FU"
      },
      "source": [
        "Now choose one of the categorical variables.  Change its value to different categories, and see how the predicted probabilities change.\n",
        "\n",
        "What does this tell you in real world terms about how the model makes decisions?"
      ]
    },
    {
      "cell_type": "code",
      "execution_count": 21,
      "metadata": {
        "id": "wEWOUJ58ega8",
        "colab": {
          "base_uri": "https://localhost:8080/",
          "height": 279
        },
        "outputId": "e71d906a-5ab7-42eb-db59-3b19b45e8217"
      },
      "outputs": [
        {
          "output_type": "execute_result",
          "data": {
            "text/plain": [
              "<AxesSubplot:>"
            ]
          },
          "metadata": {},
          "execution_count": 21
        },
        {
          "output_type": "display_data",
          "data": {
            "text/plain": [
              "<Figure size 432x288 with 1 Axes>"
            ],
            "image/png": "[encoded data removed]"
          },
          "metadata": {
            "needs_background": "light"
          }
        }
      ],
      "source": [
        "fake_person = pd.DataFrame({\n",
        "  \"CODE_GENDER\" : \"M\",\n",
        "  \"AGE\" : 44,\n",
        "  \"EDUCATION_LEVEL\" : \"High School Degree\",\n",
        "  \"FAMILY_STATUS\" : \"Married\",\n",
        "  \"AMT_INCOME_TOTAL\" : 18600,\n",
        "  \"HOUSING_TYPE\" : \"With parents\",\n",
        "  \"IS_EMPLOYED\" : \"N\",\n",
        "  \"CNT_CHILDREN\" : 0,\n",
        "  \"CNT_FAM_MEMBERS\" : 2},\n",
        "  index=[0])\n",
        "preds = nn.forward(ct.transform(fake_person))\n",
        "predProba(preds).plot.bar()"
      ]
    }
  ],
  "metadata": {
    "colab": {
      "provenance": [],
      "include_colab_link": true
    },
    "kernelspec": {
      "display_name": "Python 3",
      "language": "python",
      "name": "python3"
    }
  },
  "nbformat": 4,
  "nbformat_minor": 0
}